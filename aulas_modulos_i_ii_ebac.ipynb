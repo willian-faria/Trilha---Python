{
  "nbformat": 4,
  "nbformat_minor": 0,
  "metadata": {
    "colab": {
      "provenance": []
    },
    "kernelspec": {
      "name": "python3",
      "display_name": "Python 3"
    },
    "language_info": {
      "name": "python"
    }
  },
  "cells": [
    {
      "cell_type": "markdown",
      "source": [
        "hello word\n",
        "\n",
        "\n",
        "\n"
      ],
      "metadata": {
        "id": "sG-40YPOdcDN"
      }
    },
    {
      "cell_type": "code",
      "source": [
        "idade = 30\n",
        "print(idade)\n",
        "\n",
        "idade = 27\n",
        "print(idade)\n",
        "\n",
        "Nome =\"willian\"\n",
        "print(Nome)\n",
        "\n",
        "Nome = 'willian'\n",
        "print(Nome)\n",
        "\n",
        "Sandra = 29\n",
        "print(Sandra)\n",
        "\n",
        "nome = 'Sandra'\n",
        "idade = 29\n",
        "print('Sandra')\n",
        "idade = 34\n",
        "print(idade)\n",
        "\n",
        "esposo = 'esposo'\n",
        "nome = 'willian-faria'\n",
        "idade = 34\n",
        "print(esposo)\n",
        "print(nome)\n",
        "print(idade)"
      ],
      "metadata": {
        "colab": {
          "base_uri": "https://localhost:8080/"
        },
        "id": "nmQSEcNB-rFU",
        "outputId": "15070a13-ba02-43d8-fbdc-ba28cea97a4d"
      },
      "execution_count": null,
      "outputs": [
        {
          "output_type": "stream",
          "name": "stdout",
          "text": [
            "30\n",
            "27\n",
            "willian\n",
            "willian\n",
            "29\n",
            "Sandra\n",
            "34\n",
            "esposo\n",
            "willian-faria\n",
            "34\n"
          ]
        }
      ]
    },
    {
      "cell_type": "code",
      "source": [
        "preco = 1000\n",
        "tipo_preco = type(preco)\n",
        "print(preco)\n",
        "print(tipo_preco)"
      ],
      "metadata": {
        "colab": {
          "base_uri": "https://localhost:8080/"
        },
        "id": "OZi4JQQFCjh0",
        "outputId": "921b8e0b-27e6-4d6b-fad0-fbd9313e1c32"
      },
      "execution_count": null,
      "outputs": [
        {
          "output_type": "stream",
          "name": "stdout",
          "text": [
            "1000\n",
            "<class 'int'>\n"
          ]
        }
      ]
    },
    {
      "cell_type": "code",
      "source": [
        "juros = 0.05\n",
        "tipo_juros = type(juros)\n",
        "print(juros)\n",
        "print(tipo_juros)"
      ],
      "metadata": {
        "id": "xC0TYLHBEWel",
        "colab": {
          "base_uri": "https://localhost:8080/"
        },
        "outputId": "fd2d19be-ee2c-4541-9a7a-8ac55b18c54b"
      },
      "execution_count": null,
      "outputs": [
        {
          "output_type": "stream",
          "name": "stdout",
          "text": [
            "0.05\n",
            "<class 'float'>\n"
          ]
        }
      ]
    },
    {
      "cell_type": "code",
      "source": [
        "usuario_maior_de_idade = False\n",
        "\n",
        "print(usuario_maior_de_idade)\n",
        "print (type(usuario_maior_de_idade))"
      ],
      "metadata": {
        "id": "82wsiw-CmpFH",
        "colab": {
          "base_uri": "https://localhost:8080/"
        },
        "outputId": "cc34156c-3c8b-4bab-fb14-7587c445ac05"
      },
      "execution_count": null,
      "outputs": [
        {
          "output_type": "stream",
          "name": "stdout",
          "text": [
            "False\n",
            "<class 'bool'>\n"
          ]
        }
      ]
    },
    {
      "cell_type": "code",
      "source": [
        "telefone_fixo = None\n",
        "print(telefone_fixo)\n",
        "print(type(telefone_fixo))"
      ],
      "metadata": {
        "id": "e7r5xZrTsldp",
        "colab": {
          "base_uri": "https://localhost:8080/"
        },
        "outputId": "474f1c36-92a4-4662-fe99-347058602058"
      },
      "execution_count": null,
      "outputs": [
        {
          "output_type": "stream",
          "name": "stdout",
          "text": [
            "None\n",
            "<class 'NoneType'>\n"
          ]
        }
      ]
    },
    {
      "cell_type": "code",
      "source": [
        "print(type(37))\n",
        "print(type(12.1))\n",
        "print(type(2j))"
      ],
      "metadata": {
        "id": "yAHUsYICtZGU",
        "colab": {
          "base_uri": "https://localhost:8080/"
        },
        "outputId": "822b5077-ea23-4434-ba79-7f469272b400"
      },
      "execution_count": null,
      "outputs": [
        {
          "output_type": "stream",
          "name": "stdout",
          "text": [
            "<class 'int'>\n",
            "<class 'float'>\n",
            "<class 'complex'>\n"
          ]
        }
      ]
    },
    {
      "cell_type": "code",
      "source": [
        "# sua empresa\n",
        "lat = '-22.005320'\n",
        "lon = '-47.891040'\n",
        "# startup adquirida\n",
        "latlon = '-22.005320;-47.891040'"
      ],
      "metadata": {
        "id": "bz1dA7KtP9VZ"
      },
      "execution_count": null,
      "outputs": []
    },
    {
      "cell_type": "code",
      "source": [
        "nome = \"willian\"\n",
        "sobrenome = \"faria\"\n",
        "\n",
        "apresentacao = 'Olá, meu nome é ' + nome + ' ' + sobrenome + '.'\n",
        "print(apresentacao)"
      ],
      "metadata": {
        "id": "yk-FUI1LSrzN",
        "colab": {
          "base_uri": "https://localhost:8080/"
        },
        "outputId": "16b384c3-821c-4d31-9c90-c4293317e6ad"
      },
      "execution_count": null,
      "outputs": [
        {
          "output_type": "stream",
          "name": "stdout",
          "text": [
            "Olá, meu nome é willian faria.\n"
          ]
        }
      ]
    },
    {
      "cell_type": "code",
      "metadata": {
        "id": "mFWid8IlgChM",
        "colab": {
          "base_uri": "https://localhost:8080/"
        },
        "outputId": "ebb495eb-2760-4b33-d49b-4a1ecac4c155"
      },
      "source": [
        "nome = 'Andre Marcos'\n",
        "sobrenome = 'Perez'\n",
        "\n",
        "apresentacao = 'Olá, meu nome é \"+ nome +\"\"+ sobrenome +.'\n",
        "print (apresentacao)"
      ],
      "execution_count": null,
      "outputs": [
        {
          "output_type": "stream",
          "name": "stdout",
          "text": [
            "Olá, meu nome é \"+ nome +\"\"+ sobrenome +.\n"
          ]
        }
      ]
    },
    {
      "cell_type": "markdown",
      "source": [],
      "metadata": {
        "id": "Q24y9bGfVgqX"
      }
    },
    {
      "cell_type": "code",
      "source": [
        "nome = \"willian\"\n",
        "sobrenome = 'Faria'\n",
        "\n",
        "apresentacao = 'Olá, me chamo {} {}'.format(nome, sobrenome)\n",
        "print(apresentacao)"
      ],
      "metadata": {
        "colab": {
          "base_uri": "https://localhost:8080/"
        },
        "id": "7QhaK6MOZYg-",
        "outputId": "094ed137-b9b9-4897-ba7c-fb9a5ed4737b"
      },
      "execution_count": null,
      "outputs": [
        {
          "output_type": "stream",
          "name": "stdout",
          "text": [
            "Olá, me chamo willian Faria\n"
          ]
        }
      ]
    },
    {
      "cell_type": "code",
      "source": [
        "nome = 'willian oliveira'\n",
        "sobrenome = 'faria'\n",
        "\n",
        "apresentacao = f'olá prazer em conhecer {nome} {sobrenome}.'\n",
        "print(apresentacao)"
      ],
      "metadata": {
        "colab": {
          "base_uri": "https://localhost:8080/"
        },
        "id": "lNoanLL3IkZt",
        "outputId": "5309d907-16e2-44a7-c2fe-da74df525090"
      },
      "execution_count": null,
      "outputs": [
        {
          "output_type": "stream",
          "name": "stdout",
          "text": [
            "olá prazer em conhecer willian oliveira faria.\n"
          ]
        }
      ]
    },
    {
      "cell_type": "code",
      "source": [
        "email = 'willian.fariac5@gmail.com'"
      ],
      "metadata": {
        "id": "Uvs4Bm7NKBWC"
      },
      "execution_count": null,
      "outputs": []
    },
    {
      "cell_type": "markdown",
      "source": [],
      "metadata": {
        "id": "l7buHXfQKXoo"
      }
    },
    {
      "cell_type": "code",
      "source": [
        "print('0:' + email [0])\n",
        "print('6:' + email[10])"
      ],
      "metadata": {
        "colab": {
          "base_uri": "https://localhost:8080/"
        },
        "id": "gfS-W7ebLaj0",
        "outputId": "35aa72a2-89ec-46f4-e86e-32dd408ddbd0"
      },
      "execution_count": null,
      "outputs": [
        {
          "output_type": "stream",
          "name": "stdout",
          "text": [
            "0:w\n",
            "6:r\n"
          ]
        }
      ]
    },
    {
      "cell_type": "markdown",
      "source": [],
      "metadata": {
        "id": "V4236oL7LaQC"
      }
    },
    {
      "cell_type": "code",
      "source": [
        "faturamento = \"R$ 35 mi\"\n"
      ],
      "metadata": {
        "id": "uT32ImB5Nwt9"
      },
      "execution_count": null,
      "outputs": []
    },
    {
      "cell_type": "code",
      "source": [
        "posicao_char_divisao = latlon.find (';')\n",
        "print(posicao_char_divisao)"
      ],
      "metadata": {
        "colab": {
          "base_uri": "https://localhost:8080/"
        },
        "id": "gDPYtVajPNXZ",
        "outputId": "81e24e06-fcba-467a-b77f-450722d75028"
      },
      "execution_count": null,
      "outputs": [
        {
          "output_type": "stream",
          "name": "stdout",
          "text": [
            "10\n"
          ]
        }
      ]
    },
    {
      "cell_type": "code",
      "source": [
        "lat_startup = latlon[0:posicao_char_divisao]\n",
        "print(lat_startup)"
      ],
      "metadata": {
        "colab": {
          "base_uri": "https://localhost:8080/"
        },
        "id": "J-i1hs8QR_Gs",
        "outputId": "c1ea5615-147f-41f2-9ace-49d3d648a63f"
      },
      "execution_count": null,
      "outputs": [
        {
          "output_type": "stream",
          "name": "stdout",
          "text": [
            "-22.005320\n"
          ]
        }
      ]
    },
    {
      "cell_type": "code",
      "source": [
        "lon_startup = latlon[posicao_char_divisao+1:len(latlon)]\n",
        "print(lon_startup)"
      ],
      "metadata": {
        "colab": {
          "base_uri": "https://localhost:8080/"
        },
        "id": "L7XQqwsBTgD2",
        "outputId": "7f6335ef-1f99-4fc9-8c15-d0bc490f9b68"
      },
      "execution_count": null,
      "outputs": [
        {
          "output_type": "stream",
          "name": "stdout",
          "text": [
            "-47.891040\n"
          ]
        }
      ]
    },
    {
      "cell_type": "code",
      "source": [
        "usuario = \"willian.faria\"\n",
        "senha = 'willian123'"
      ],
      "metadata": {
        "id": "_90MXIBcU_IE"
      },
      "execution_count": null,
      "outputs": []
    },
    {
      "cell_type": "code",
      "source": [
        "usuario_cadastro = 'willian.faria'\n",
        "senha_cadastro = 'willian123'"
      ],
      "metadata": {
        "id": "bfVTg0PmVUMF"
      },
      "execution_count": null,
      "outputs": []
    },
    {
      "cell_type": "markdown",
      "source": [
        "true = (verdadeiro)\n",
        "false = (falso)"
      ],
      "metadata": {
        "id": "UNc_J2cfVxnC"
      }
    },
    {
      "cell_type": "code",
      "source": [
        "true = ('verdadeiro')\n",
        "print(true)"
      ],
      "metadata": {
        "colab": {
          "base_uri": "https://localhost:8080/"
        },
        "id": "9R58Ji8dV-Kc",
        "outputId": "b7940f92-aa70-4278-8f84-702d7e302579"
      },
      "execution_count": null,
      "outputs": [
        {
          "output_type": "stream",
          "name": "stdout",
          "text": [
            "verdadeiro\n"
          ]
        }
      ]
    },
    {
      "cell_type": "code",
      "source": [
        "falso = 'false'\n",
        "print(falso)"
      ],
      "metadata": {
        "colab": {
          "base_uri": "https://localhost:8080/"
        },
        "id": "9KBR7pETWcM-",
        "outputId": "b17792d6-3695-4c77-db8b-9337bc96f657"
      },
      "execution_count": null,
      "outputs": [
        {
          "output_type": "stream",
          "name": "stdout",
          "text": [
            "false\n"
          ]
        }
      ]
    },
    {
      "cell_type": "code",
      "source": [],
      "metadata": {
        "id": "ujn-Ov_fXNab"
      },
      "execution_count": null,
      "outputs": []
    }
  ]
}